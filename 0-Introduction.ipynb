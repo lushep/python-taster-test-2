{
 "cells": [
  {
   "cell_type": "markdown",
   "metadata": {},
   "source": [
    "<a href=\"https://gdd.li/python-taster\" target=\"_blank\">\n",
    "<img src='images/set-up.png' width='500px'>"
   ]
  },
  {
   "cell_type": "markdown",
   "metadata": {
    "slideshow": {
     "slide_type": "slide"
    }
   },
   "source": [
    "<img src='images/gdd-logo.png' width='300px' align='right' style=\"padding: 15px\">\n",
    "\n",
    "# Python for Data Analysts - Taster\n",
    "\n",
    "\n",
    "Welcome to our taster for the course Python for Data Analysts!\n",
    "\n",
    "In this taster session we will cover:\n",
    "\n",
    "- [Why Python](#why)\n",
    "- [Using Jupyter Notebook for Python](#jupyter)\n",
    "- [Python essentials](1-python-essentials.ipynb)\n",
    "- [Data manipulation and analysis with `pandas`](2-pandas.ipynb)\n",
    "- [Plotting using `matplotlib`](2-pandas.ipynb#plotting)"
   ]
  },
  {
   "cell_type": "markdown",
   "metadata": {
    "slideshow": {
     "slide_type": "slide"
    }
   },
   "source": [
    "---\n",
    "<img src='images/python-logo.png' width='250px' align='right' style=\"padding: 15px\">\n",
    "\n",
    "## Why Python?\n",
    "\n",
    "\n",
    "**High-level programming language**:\n",
    "- Python enables us to experiment and wrangle data \n",
    "    \n",
    "**High readability**:\n",
    "\n",
    "- In the late 1980s, Guido Van Rossum from the Netherlands began his work to derive a language with better code readability. Python was created in 1991 and named after “Monty Python’s Flying Circus”. \n",
    "    \n",
    "**Core skill**:\n",
    "\n",
    "- Python was named in 1.06% of the vacancies in 2018/2019, this percentage has now risen to 1.28% in 2019/2020. [Reference](https://intelligence-group.nl/en/news/top-10-fastest-growing-it-skills-in-the-netherlands-in-2020)\n",
    "\n",
    "**Open source**:\n",
    "\n",
    "- Python is free to use and there is a huge community surrounding it."
   ]
  },
  {
   "cell_type": "markdown",
   "metadata": {
    "slideshow": {
     "slide_type": "slide"
    }
   },
   "source": [
    "---\n",
    "<img src='images/jup-logo.png' width='180px' align='right' style=\"padding-right: 50px\">\n",
    "\n",
    "## Jupyter Notebook\n",
    "\n",
    "During this course we will program in Python, using **Jupyter notebooks** from Anaconda or Binder*. \n",
    "\n",
    "- Jupyter notebook allows for programming in the browser. \n",
    "- Code, text and output are displayed \"in-line\", therefore great for telling a \"story\"\n",
    "- Very popular amongst data scientists.\n",
    "\n",
    "** **Binder** is an open-source tool that allows you to create and share custom computing environments via a web link.*\n",
    "\n",
    "If you have not used, or forgot how to work with Jupyter notebooks, here is a brief reminder:"
   ]
  },
  {
   "cell_type": "code",
   "execution_count": null,
   "metadata": {},
   "outputs": [],
   "source": []
  },
  {
   "cell_type": "markdown",
   "metadata": {},
   "source": [
    "### Notebook shortcuts\n",
    "\n",
    "All necessary commands have corresponding buttons at the top of the screen.\n",
    "As you become more familiar with using Jupyter Notebook, you'll become more\n",
    "efficient by using hotkeys instead. A list of some useful ones (use ⌘ or \n",
    "`command` instead of `ctrl` on a *Mac*).\n",
    "\n",
    "<img src='images/shortcuts.png' align='left'>"
   ]
  },
  {
   "cell_type": "markdown",
   "metadata": {},
   "source": [
    "### Edit Mode\n",
    "\n",
    "- `ctrl  + enter` : run cell\n",
    "- `shift + enter` : run cell and select the one after (create one if none below exists)\n",
    "- `ctrl  + s`     : save notebook\n",
    "- `esc`           : enter command mode\n",
    "\n",
    "### Command mode\n",
    "In Insert mode you can input your code or text. In Command mode — as the \n",
    "name implies, you can execute commands that mostly influence the notebook:\n",
    "\n",
    "- `↑`/`↓` : browser through different cells\n",
    "- `y`     : changes cell to a code cell\n",
    "- `m`     : changes cell to a [markdown](https://en.wikipedia.org/wiki/Markdown) cell\n",
    "- `a`     : create new cell above\n",
    "- `b`     : create new cell below\n",
    "- `l`     : toggle line numbers\n",
    "- `dd`    : delete cell\n",
    "- `h`     : show keyboard shortcuts\n",
    "\n",
    "You can always access the docs/help by adding a `?` in front of any\n",
    "function in Python. You can dismiss the helper that will pop-up at the \n",
    "bottom by pressing `q`."
   ]
  },
  {
   "cell_type": "markdown",
   "metadata": {},
   "source": [
    "## Participation in the Session\n",
    "\n",
    "- Polls on Zoom\n",
    "- Cameras on please\n",
    "- Code along & attempt the activities/exercises\n",
    "\n",
    "[Let's get started with some Python essentials!](1-python-essentials.ipynb)"
   ]
  }
 ],
 "metadata": {
  "kernelspec": {
   "display_name": "Python 3",
   "language": "python",
   "name": "python3"
  },
  "language_info": {
   "codemirror_mode": {
    "name": "ipython",
    "version": 3
   },
   "file_extension": ".py",
   "mimetype": "text/x-python",
   "name": "python",
   "nbconvert_exporter": "python",
   "pygments_lexer": "ipython3",
   "version": "3.8.5"
  }
 },
 "nbformat": 4,
 "nbformat_minor": 4
}
